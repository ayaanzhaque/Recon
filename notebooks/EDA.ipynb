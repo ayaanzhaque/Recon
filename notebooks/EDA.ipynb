{
 "cells": [
  {
   "cell_type": "code",
   "execution_count": 2,
   "metadata": {
    "colab": {},
    "colab_type": "code",
    "id": "-x6qaLq-Ear2"
   },
   "outputs": [],
   "source": [
    "# imports\n",
    "import pandas as pd\n",
    "import numpy as np\n",
    "import matplotlib.pyplot as plt\n",
    "import seaborn as sns\n",
    "import geopandas as gpd\n",
    "\n",
    "sns.set_palette(\"Set2\")\n",
    "sns.set_style(\"ticks\")"
   ]
  },
  {
   "cell_type": "markdown",
   "metadata": {
    "colab_type": "text",
    "id": "zd03pGirF9Gr"
   },
   "source": [
    "## Load Data"
   ]
  },
  {
   "cell_type": "code",
   "execution_count": 13,
   "metadata": {
    "colab": {},
    "colab_type": "code",
    "id": "-TwtxZUTEg8h"
   },
   "outputs": [],
   "source": [
    "crimes = pd.read_csv(\"../data/train.zip\")"
   ]
  },
  {
   "cell_type": "code",
   "execution_count": 14,
   "metadata": {
    "colab": {},
    "colab_type": "code",
    "id": "gmsK5kKSLqyf"
   },
   "outputs": [],
   "source": [
    "weather = pd.read_csv(\"../data/sf_weather.csv\")"
   ]
  },
  {
   "cell_type": "code",
   "execution_count": 15,
   "metadata": {
    "colab": {},
    "colab_type": "code",
    "id": "-3909xJCFOEl"
   },
   "outputs": [],
   "source": [
    "football = pd.read_csv(\"../data/49schedule.csv\")"
   ]
  },
  {
   "cell_type": "markdown",
   "metadata": {
    "colab_type": "text",
    "id": "cZet8a7jLNXx"
   },
   "source": [
    "## Data Preprocessing \n",
    "Let's begin by removing missing values."
   ]
  },
  {
   "cell_type": "code",
   "execution_count": 16,
   "metadata": {
    "colab": {
     "base_uri": "https://localhost:8080/",
     "height": 328
    },
    "colab_type": "code",
    "id": "pUBYW8TzWxqw",
    "outputId": "02a676eb-0022-42b5-fb42-1d1ac2adc6aa"
   },
   "outputs": [
    {
     "data": {
      "text/html": [
       "<div>\n",
       "<style scoped>\n",
       "    .dataframe tbody tr th:only-of-type {\n",
       "        vertical-align: middle;\n",
       "    }\n",
       "\n",
       "    .dataframe tbody tr th {\n",
       "        vertical-align: top;\n",
       "    }\n",
       "\n",
       "    .dataframe thead th {\n",
       "        text-align: right;\n",
       "    }\n",
       "</style>\n",
       "<table border=\"1\" class=\"dataframe\">\n",
       "  <thead>\n",
       "    <tr style=\"text-align: right;\">\n",
       "      <th></th>\n",
       "      <th>Missing Values %</th>\n",
       "    </tr>\n",
       "  </thead>\n",
       "  <tbody>\n",
       "    <tr>\n",
       "      <th>Dates</th>\n",
       "      <td>0.0</td>\n",
       "    </tr>\n",
       "    <tr>\n",
       "      <th>Category</th>\n",
       "      <td>0.0</td>\n",
       "    </tr>\n",
       "    <tr>\n",
       "      <th>Descript</th>\n",
       "      <td>0.0</td>\n",
       "    </tr>\n",
       "    <tr>\n",
       "      <th>DayOfWeek</th>\n",
       "      <td>0.0</td>\n",
       "    </tr>\n",
       "    <tr>\n",
       "      <th>PdDistrict</th>\n",
       "      <td>0.0</td>\n",
       "    </tr>\n",
       "    <tr>\n",
       "      <th>Resolution</th>\n",
       "      <td>0.0</td>\n",
       "    </tr>\n",
       "    <tr>\n",
       "      <th>Address</th>\n",
       "      <td>0.0</td>\n",
       "    </tr>\n",
       "    <tr>\n",
       "      <th>X</th>\n",
       "      <td>0.0</td>\n",
       "    </tr>\n",
       "    <tr>\n",
       "      <th>Y</th>\n",
       "      <td>0.0</td>\n",
       "    </tr>\n",
       "  </tbody>\n",
       "</table>\n",
       "</div>"
      ],
      "text/plain": [
       "            Missing Values %\n",
       "Dates                    0.0\n",
       "Category                 0.0\n",
       "Descript                 0.0\n",
       "DayOfWeek                0.0\n",
       "PdDistrict               0.0\n",
       "Resolution               0.0\n",
       "Address                  0.0\n",
       "X                        0.0\n",
       "Y                        0.0"
      ]
     },
     "execution_count": 16,
     "metadata": {},
     "output_type": "execute_result"
    }
   ],
   "source": [
    "crimes_missing = pd.DataFrame(crimes.isnull().mean()*100, columns=[\"Missing Values %\"])\n",
    "crimes_missing"
   ]
  },
  {
   "cell_type": "code",
   "execution_count": 17,
   "metadata": {
    "colab": {},
    "colab_type": "code",
    "id": "W1W4XOnJMIw7"
   },
   "outputs": [],
   "source": [
    "crimes_original = crimes.copy()\n",
    "crimes_original[\"Dates\"] = pd.to_datetime(crimes[\"Dates\"])\n",
    "crimes_original.set_index(keys=crimes_original[\"Dates\"], inplace=True)\n",
    "crimes_original.drop(columns=[\"Dates\"], inplace=True)"
   ]
  },
  {
   "cell_type": "code",
   "execution_count": 18,
   "metadata": {
    "colab": {},
    "colab_type": "code",
    "id": "HDzAaYYvGPtT"
   },
   "outputs": [],
   "source": [
    "crimes.drop(columns=[\"Category\", \"Descript\", \"Resolution\", \"Address\", \"X\", \"Y\"], inplace=True)\n",
    "crimes[\"Dates\"] = pd.to_datetime(crimes[\"Dates\"]).dt.date"
   ]
  },
  {
   "cell_type": "code",
   "execution_count": 19,
   "metadata": {
    "colab": {
     "base_uri": "https://localhost:8080/",
     "height": 204
    },
    "colab_type": "code",
    "id": "Gb1dkpTUGLFi",
    "outputId": "89e745a9-ccfc-4d65-e45d-4ad32c0cb8b3"
   },
   "outputs": [
    {
     "data": {
      "text/html": [
       "<div>\n",
       "<style scoped>\n",
       "    .dataframe tbody tr th:only-of-type {\n",
       "        vertical-align: middle;\n",
       "    }\n",
       "\n",
       "    .dataframe tbody tr th {\n",
       "        vertical-align: top;\n",
       "    }\n",
       "\n",
       "    .dataframe thead th {\n",
       "        text-align: right;\n",
       "    }\n",
       "</style>\n",
       "<table border=\"1\" class=\"dataframe\">\n",
       "  <thead>\n",
       "    <tr style=\"text-align: right;\">\n",
       "      <th></th>\n",
       "      <th>Dates</th>\n",
       "      <th>DayOfWeek</th>\n",
       "      <th>PdDistrict</th>\n",
       "    </tr>\n",
       "  </thead>\n",
       "  <tbody>\n",
       "    <tr>\n",
       "      <th>0</th>\n",
       "      <td>2015-05-13</td>\n",
       "      <td>Wednesday</td>\n",
       "      <td>NORTHERN</td>\n",
       "    </tr>\n",
       "    <tr>\n",
       "      <th>1</th>\n",
       "      <td>2015-05-13</td>\n",
       "      <td>Wednesday</td>\n",
       "      <td>NORTHERN</td>\n",
       "    </tr>\n",
       "    <tr>\n",
       "      <th>2</th>\n",
       "      <td>2015-05-13</td>\n",
       "      <td>Wednesday</td>\n",
       "      <td>NORTHERN</td>\n",
       "    </tr>\n",
       "    <tr>\n",
       "      <th>3</th>\n",
       "      <td>2015-05-13</td>\n",
       "      <td>Wednesday</td>\n",
       "      <td>NORTHERN</td>\n",
       "    </tr>\n",
       "    <tr>\n",
       "      <th>4</th>\n",
       "      <td>2015-05-13</td>\n",
       "      <td>Wednesday</td>\n",
       "      <td>PARK</td>\n",
       "    </tr>\n",
       "  </tbody>\n",
       "</table>\n",
       "</div>"
      ],
      "text/plain": [
       "        Dates  DayOfWeek PdDistrict\n",
       "0  2015-05-13  Wednesday   NORTHERN\n",
       "1  2015-05-13  Wednesday   NORTHERN\n",
       "2  2015-05-13  Wednesday   NORTHERN\n",
       "3  2015-05-13  Wednesday   NORTHERN\n",
       "4  2015-05-13  Wednesday       PARK"
      ]
     },
     "execution_count": 19,
     "metadata": {},
     "output_type": "execute_result"
    }
   ],
   "source": [
    "crimes.head()"
   ]
  },
  {
   "cell_type": "markdown",
   "metadata": {
    "colab_type": "text",
    "id": "RkUUOXX4MBXT"
   },
   "source": [
    "Now let's load the weather data."
   ]
  },
  {
   "cell_type": "code",
   "execution_count": 20,
   "metadata": {
    "colab": {
     "base_uri": "https://localhost:8080/",
     "height": 0
    },
    "colab_type": "code",
    "id": "Mp5jFjaeWtJw",
    "outputId": "2f961d0e-6466-49a0-c830-8c1b396efea3"
   },
   "outputs": [
    {
     "data": {
      "text/html": [
       "<div>\n",
       "<style scoped>\n",
       "    .dataframe tbody tr th:only-of-type {\n",
       "        vertical-align: middle;\n",
       "    }\n",
       "\n",
       "    .dataframe tbody tr th {\n",
       "        vertical-align: top;\n",
       "    }\n",
       "\n",
       "    .dataframe thead th {\n",
       "        text-align: right;\n",
       "    }\n",
       "</style>\n",
       "<table border=\"1\" class=\"dataframe\">\n",
       "  <thead>\n",
       "    <tr style=\"text-align: right;\">\n",
       "      <th></th>\n",
       "      <th>Missing Values %</th>\n",
       "    </tr>\n",
       "  </thead>\n",
       "  <tbody>\n",
       "    <tr>\n",
       "      <th>date</th>\n",
       "      <td>0.0</td>\n",
       "    </tr>\n",
       "    <tr>\n",
       "      <th>avg_temp (celsius)</th>\n",
       "      <td>0.0</td>\n",
       "    </tr>\n",
       "    <tr>\n",
       "      <th>precipitation (mm)</th>\n",
       "      <td>0.0</td>\n",
       "    </tr>\n",
       "    <tr>\n",
       "      <th>wind_speed (km/h)</th>\n",
       "      <td>0.0</td>\n",
       "    </tr>\n",
       "    <tr>\n",
       "      <th>visibility (km)</th>\n",
       "      <td>0.0</td>\n",
       "    </tr>\n",
       "    <tr>\n",
       "      <th>moon_illumination, %</th>\n",
       "      <td>0.0</td>\n",
       "    </tr>\n",
       "  </tbody>\n",
       "</table>\n",
       "</div>"
      ],
      "text/plain": [
       "                      Missing Values %\n",
       "date                               0.0\n",
       "avg_temp (celsius)                 0.0\n",
       "precipitation (mm)                 0.0\n",
       "wind_speed (km/h)                  0.0\n",
       "visibility (km)                    0.0\n",
       "moon_illumination, %               0.0"
      ]
     },
     "execution_count": 20,
     "metadata": {},
     "output_type": "execute_result"
    }
   ],
   "source": [
    "weather_missing = pd.DataFrame(weather.isnull().mean()*100, columns=[\"Missing Values %\"])\n",
    "weather_missing"
   ]
  },
  {
   "cell_type": "code",
   "execution_count": 21,
   "metadata": {
    "colab": {},
    "colab_type": "code",
    "id": "x0ETfXvnSVFJ"
   },
   "outputs": [],
   "source": [
    "weather[\"Dates\"] = pd.to_datetime(weather[\"date\"]).dt.date"
   ]
  },
  {
   "cell_type": "code",
   "execution_count": 22,
   "metadata": {
    "colab": {},
    "colab_type": "code",
    "id": "zwKJ5bphgKww"
   },
   "outputs": [],
   "source": [
    "weather_original = weather.copy()\n",
    "weather_original[\"Dates\"] = pd.to_datetime(weather[\"Dates\"])\n",
    "weather_original.set_index(keys=weather_original[\"Dates\"], inplace=True)\n",
    "weather_original.drop(columns=[\"Dates\"], inplace=True)"
   ]
  },
  {
   "cell_type": "code",
   "execution_count": 23,
   "metadata": {
    "colab": {},
    "colab_type": "code",
    "id": "4Kk4hEZNVSNH"
   },
   "outputs": [],
   "source": [
    "weather.drop(columns=[\"date\", \"moon_illumination, %\"], inplace=True)"
   ]
  },
  {
   "cell_type": "code",
   "execution_count": 24,
   "metadata": {
    "colab": {
     "base_uri": "https://localhost:8080/",
     "height": 0
    },
    "colab_type": "code",
    "id": "o1bE64PnGyaB",
    "outputId": "042be7d4-9642-467f-8ea4-fe46b3783cc4"
   },
   "outputs": [
    {
     "data": {
      "text/html": [
       "<div>\n",
       "<style scoped>\n",
       "    .dataframe tbody tr th:only-of-type {\n",
       "        vertical-align: middle;\n",
       "    }\n",
       "\n",
       "    .dataframe tbody tr th {\n",
       "        vertical-align: top;\n",
       "    }\n",
       "\n",
       "    .dataframe thead th {\n",
       "        text-align: right;\n",
       "    }\n",
       "</style>\n",
       "<table border=\"1\" class=\"dataframe\">\n",
       "  <thead>\n",
       "    <tr style=\"text-align: right;\">\n",
       "      <th></th>\n",
       "      <th>avg_temp (celsius)</th>\n",
       "      <th>precipitation (mm)</th>\n",
       "      <th>wind_speed (km/h)</th>\n",
       "      <th>visibility (km)</th>\n",
       "      <th>Dates</th>\n",
       "    </tr>\n",
       "  </thead>\n",
       "  <tbody>\n",
       "    <tr>\n",
       "      <th>0</th>\n",
       "      <td>9</td>\n",
       "      <td>0.00</td>\n",
       "      <td>3</td>\n",
       "      <td>15.0</td>\n",
       "      <td>2003-01-01</td>\n",
       "    </tr>\n",
       "    <tr>\n",
       "      <th>1</th>\n",
       "      <td>10</td>\n",
       "      <td>0.00</td>\n",
       "      <td>5</td>\n",
       "      <td>15.0</td>\n",
       "      <td>2003-01-02</td>\n",
       "    </tr>\n",
       "    <tr>\n",
       "      <th>2</th>\n",
       "      <td>10</td>\n",
       "      <td>0.00</td>\n",
       "      <td>5</td>\n",
       "      <td>15.0</td>\n",
       "      <td>2003-01-03</td>\n",
       "    </tr>\n",
       "    <tr>\n",
       "      <th>3</th>\n",
       "      <td>11</td>\n",
       "      <td>0.00</td>\n",
       "      <td>5</td>\n",
       "      <td>15.0</td>\n",
       "      <td>2003-01-04</td>\n",
       "    </tr>\n",
       "    <tr>\n",
       "      <th>4</th>\n",
       "      <td>11</td>\n",
       "      <td>0.25</td>\n",
       "      <td>5</td>\n",
       "      <td>6.0</td>\n",
       "      <td>2003-01-05</td>\n",
       "    </tr>\n",
       "  </tbody>\n",
       "</table>\n",
       "</div>"
      ],
      "text/plain": [
       "   avg_temp (celsius) precipitation (mm) wind_speed (km/h)  visibility (km)  \\\n",
       "0                   9               0.00                 3             15.0   \n",
       "1                  10               0.00                 5             15.0   \n",
       "2                  10               0.00                 5             15.0   \n",
       "3                  11               0.00                 5             15.0   \n",
       "4                  11               0.25                 5              6.0   \n",
       "\n",
       "        Dates  \n",
       "0  2003-01-01  \n",
       "1  2003-01-02  \n",
       "2  2003-01-03  \n",
       "3  2003-01-04  \n",
       "4  2003-01-05  "
      ]
     },
     "execution_count": 24,
     "metadata": {},
     "output_type": "execute_result"
    }
   ],
   "source": [
    "weather.head()"
   ]
  },
  {
   "cell_type": "markdown",
   "metadata": {
    "colab_type": "text",
    "id": "KeML0V-YS1fW"
   },
   "source": [
    "Now let's merge the datasets into one final file."
   ]
  },
  {
   "cell_type": "code",
   "execution_count": 28,
   "metadata": {
    "colab": {},
    "colab_type": "code",
    "id": "pjyDhz-dTrBi"
   },
   "outputs": [],
   "source": [
    "data=pd.merge(crimes, weather, how=\"left\", on=\"Dates\")\n",
    "data[\"Dates\"] = pd.to_datetime(data[\"Dates\"])\n",
    "data=pd.merge(data, football, how=\"left\", on=\"Dates\") #Added this line\n",
    "data[\"Dates\"] = pd.to_datetime(data[\"Dates\"])\n",
    "data.set_index(keys=data[\"Dates\"], inplace=True)\n",
    "data.drop(columns=[\"Dates\"], inplace=True)"
   ]
  },
  {
   "cell_type": "code",
   "execution_count": 29,
   "metadata": {
    "colab": {},
    "colab_type": "code",
    "id": "xuGmbMC3iM1R"
   },
   "outputs": [],
   "source": [
    "data.rename(columns={\"avg_temp (celsius)\":\"avg_temp\",\n",
    "             \"precipitation (mm)\":\"precipitation\",\n",
    "             \"wind_speed (km/h)\":\"wind_speed\",\n",
    "             \"visibility (km)\":\"visibility\"\n",
    "             }, inplace=True)"
   ]
  },
  {
   "cell_type": "code",
   "execution_count": 30,
   "metadata": {
    "colab": {},
    "colab_type": "code",
    "id": "n7V9ZsCwnErP"
   },
   "outputs": [],
   "source": [
    "data[\"precipitation\"].replace({\"T\":np.nan}, inplace=True)\n",
    "data[\"precipitation\"] = data[\"precipitation\"].astype(\"float\")"
   ]
  },
  {
   "cell_type": "code",
   "execution_count": 31,
   "metadata": {
    "colab": {},
    "colab_type": "code",
    "id": "n_4wXbJ2nyYm"
   },
   "outputs": [],
   "source": [
    "data[\"wind_speed\"].replace({\"Waning Crescent, 14\":np.nan}, inplace=True)\n",
    "data[\"wind_speed\"] = data[\"wind_speed\"].astype(\"float\")"
   ]
  },
  {
   "cell_type": "code",
   "execution_count": 32,
   "metadata": {
    "colab": {},
    "colab_type": "code",
    "id": "huC_aGKSTYJW"
   },
   "outputs": [],
   "source": [
    "data[\"NFL_Output\"].fillna(\"No Game\", inplace=True)\n",
    "data[\"NFL_Home\"].fillna(3, inplace=True) #3 Indicates no game for that day\n",
    "data[\"NFL_Game_Day\"].fillna(0, inplace=True)"
   ]
  },
  {
   "cell_type": "code",
   "execution_count": 33,
   "metadata": {
    "colab": {},
    "colab_type": "code",
    "id": "lmqLd0CxQxVV"
   },
   "outputs": [],
   "source": [
    "data[\"NFL_Home\"].replace({\"0\": 0,\n",
    "                          \"1\":1,\n",
    "                          \"0.0\":0,\n",
    "                          \"1.0\":1}, inplace=True)"
   ]
  },
  {
   "cell_type": "code",
   "execution_count": 34,
   "metadata": {
    "colab": {},
    "colab_type": "code",
    "id": "dg8JsRSgQKlj"
   },
   "outputs": [],
   "source": [
    "data[\"NFL_Game_Day\"] = data[\"NFL_Game_Day\"].astype(\"int\")"
   ]
  },
  {
   "cell_type": "code",
   "execution_count": 35,
   "metadata": {
    "colab": {
     "base_uri": "https://localhost:8080/",
     "height": 0
    },
    "colab_type": "code",
    "id": "-IpXxoDyOgna",
    "outputId": "355b71e1-5a75-4275-e87b-d084b8834641"
   },
   "outputs": [
    {
     "data": {
      "text/html": [
       "<div>\n",
       "<style scoped>\n",
       "    .dataframe tbody tr th:only-of-type {\n",
       "        vertical-align: middle;\n",
       "    }\n",
       "\n",
       "    .dataframe tbody tr th {\n",
       "        vertical-align: top;\n",
       "    }\n",
       "\n",
       "    .dataframe thead th {\n",
       "        text-align: right;\n",
       "    }\n",
       "</style>\n",
       "<table border=\"1\" class=\"dataframe\">\n",
       "  <thead>\n",
       "    <tr style=\"text-align: right;\">\n",
       "      <th></th>\n",
       "      <th>DayOfWeek</th>\n",
       "      <th>PdDistrict</th>\n",
       "      <th>avg_temp</th>\n",
       "      <th>precipitation</th>\n",
       "      <th>wind_speed</th>\n",
       "      <th>visibility</th>\n",
       "      <th>NFL_Output</th>\n",
       "      <th>NFL_Home</th>\n",
       "      <th>NFL_Game_Day</th>\n",
       "    </tr>\n",
       "    <tr>\n",
       "      <th>Dates</th>\n",
       "      <th></th>\n",
       "      <th></th>\n",
       "      <th></th>\n",
       "      <th></th>\n",
       "      <th></th>\n",
       "      <th></th>\n",
       "      <th></th>\n",
       "      <th></th>\n",
       "      <th></th>\n",
       "    </tr>\n",
       "  </thead>\n",
       "  <tbody>\n",
       "    <tr>\n",
       "      <th>2015-05-13</th>\n",
       "      <td>Wednesday</td>\n",
       "      <td>NORTHERN</td>\n",
       "      <td>15</td>\n",
       "      <td>0.0</td>\n",
       "      <td>19.0</td>\n",
       "      <td>40.0</td>\n",
       "      <td>No Game</td>\n",
       "      <td>3</td>\n",
       "      <td>0</td>\n",
       "    </tr>\n",
       "    <tr>\n",
       "      <th>2015-05-13</th>\n",
       "      <td>Wednesday</td>\n",
       "      <td>NORTHERN</td>\n",
       "      <td>15</td>\n",
       "      <td>0.0</td>\n",
       "      <td>19.0</td>\n",
       "      <td>40.0</td>\n",
       "      <td>No Game</td>\n",
       "      <td>3</td>\n",
       "      <td>0</td>\n",
       "    </tr>\n",
       "    <tr>\n",
       "      <th>2015-05-13</th>\n",
       "      <td>Wednesday</td>\n",
       "      <td>NORTHERN</td>\n",
       "      <td>15</td>\n",
       "      <td>0.0</td>\n",
       "      <td>19.0</td>\n",
       "      <td>40.0</td>\n",
       "      <td>No Game</td>\n",
       "      <td>3</td>\n",
       "      <td>0</td>\n",
       "    </tr>\n",
       "    <tr>\n",
       "      <th>2015-05-13</th>\n",
       "      <td>Wednesday</td>\n",
       "      <td>NORTHERN</td>\n",
       "      <td>15</td>\n",
       "      <td>0.0</td>\n",
       "      <td>19.0</td>\n",
       "      <td>40.0</td>\n",
       "      <td>No Game</td>\n",
       "      <td>3</td>\n",
       "      <td>0</td>\n",
       "    </tr>\n",
       "    <tr>\n",
       "      <th>2015-05-13</th>\n",
       "      <td>Wednesday</td>\n",
       "      <td>PARK</td>\n",
       "      <td>15</td>\n",
       "      <td>0.0</td>\n",
       "      <td>19.0</td>\n",
       "      <td>40.0</td>\n",
       "      <td>No Game</td>\n",
       "      <td>3</td>\n",
       "      <td>0</td>\n",
       "    </tr>\n",
       "  </tbody>\n",
       "</table>\n",
       "</div>"
      ],
      "text/plain": [
       "            DayOfWeek PdDistrict  avg_temp  precipitation  wind_speed  \\\n",
       "Dates                                                                   \n",
       "2015-05-13  Wednesday   NORTHERN        15            0.0        19.0   \n",
       "2015-05-13  Wednesday   NORTHERN        15            0.0        19.0   \n",
       "2015-05-13  Wednesday   NORTHERN        15            0.0        19.0   \n",
       "2015-05-13  Wednesday   NORTHERN        15            0.0        19.0   \n",
       "2015-05-13  Wednesday       PARK        15            0.0        19.0   \n",
       "\n",
       "            visibility NFL_Output  NFL_Home  NFL_Game_Day  \n",
       "Dates                                                      \n",
       "2015-05-13        40.0    No Game         3             0  \n",
       "2015-05-13        40.0    No Game         3             0  \n",
       "2015-05-13        40.0    No Game         3             0  \n",
       "2015-05-13        40.0    No Game         3             0  \n",
       "2015-05-13        40.0    No Game         3             0  "
      ]
     },
     "execution_count": 35,
     "metadata": {},
     "output_type": "execute_result"
    }
   ],
   "source": [
    "data.head()"
   ]
  }
 ],
 "metadata": {
  "colab": {
   "authorship_tag": "ABX9TyP71lHHLwFfY957i4zPPjT8",
   "name": "EDA.ipynb",
   "provenance": []
  },
  "kernelspec": {
   "display_name": "Python 3",
   "language": "python",
   "name": "python3"
  },
  "language_info": {
   "codemirror_mode": {
    "name": "ipython",
    "version": 3
   },
   "file_extension": ".py",
   "mimetype": "text/x-python",
   "name": "python",
   "nbconvert_exporter": "python",
   "pygments_lexer": "ipython3",
   "version": "3.7.6"
  }
 },
 "nbformat": 4,
 "nbformat_minor": 1
}
