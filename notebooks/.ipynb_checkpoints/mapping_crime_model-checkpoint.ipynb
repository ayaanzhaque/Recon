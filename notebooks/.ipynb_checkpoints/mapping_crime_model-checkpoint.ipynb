{
 "cells": [
  {
   "cell_type": "code",
   "execution_count": null,
   "metadata": {
    "_cell_guid": "b1076dfc-b9ad-4769-8c92-a6c4dae69d19",
    "_uuid": "8f2839f25d086af736a60e9eeb907d3b93b6e0e5",
    "id": "AyL8BiqW1ySp"
   },
   "outputs": [],
   "source": [
    "import numpy as np # linear algebra\n",
    "import pandas as pd # data processing, CSV file I/O (e.g. pd.read_csv)"
   ]
  },
  {
   "cell_type": "markdown",
   "metadata": {
    "_uuid": "189ee9f7b5d2eb6a0e76f07c50ef5b8177172cf0",
    "id": "sYtIcD4t1ySp"
   },
   "source": [
    "# Data Processing"
   ]
  },
  {
   "cell_type": "code",
   "execution_count": 14,
   "metadata": {
    "_cell_guid": "79c7e3d0-c299-4dcb-8224-4455121ee9b0",
    "_uuid": "d629ff2d2480ee46fbb7e2d37f6b5fab8052498a",
    "id": "85Arr2Ab1ySq"
   },
   "outputs": [],
   "source": [
    "train_df = pd.read_csv('data/train.csv')\n",
    "test_df = pd.read_csv('data/test.csv')"
   ]
  },
  {
   "cell_type": "code",
   "execution_count": 15,
   "metadata": {
    "_uuid": "5123e8441b7a351ea691abf5b917edf63d679135",
    "colab": {
     "base_uri": "https://localhost:8080/",
     "height": 445
    },
    "id": "pyyx9wYq1ySr",
    "outputId": "263ba79c-3a36-4ddd-c256-00dcfb574d96"
   },
   "outputs": [
    {
     "data": {
      "text/html": [
       "<div>\n",
       "<style scoped>\n",
       "    .dataframe tbody tr th:only-of-type {\n",
       "        vertical-align: middle;\n",
       "    }\n",
       "\n",
       "    .dataframe tbody tr th {\n",
       "        vertical-align: top;\n",
       "    }\n",
       "\n",
       "    .dataframe thead th {\n",
       "        text-align: right;\n",
       "    }\n",
       "</style>\n",
       "<table border=\"1\" class=\"dataframe\">\n",
       "  <thead>\n",
       "    <tr style=\"text-align: right;\">\n",
       "      <th></th>\n",
       "      <th>Dates</th>\n",
       "      <th>Category</th>\n",
       "      <th>Descript</th>\n",
       "      <th>DayOfWeek</th>\n",
       "      <th>PdDistrict</th>\n",
       "      <th>Resolution</th>\n",
       "      <th>Address</th>\n",
       "      <th>X</th>\n",
       "      <th>Y</th>\n",
       "    </tr>\n",
       "  </thead>\n",
       "  <tbody>\n",
       "    <tr>\n",
       "      <th>2451</th>\n",
       "      <td>2015-04-30 15:38:00</td>\n",
       "      <td>PROSTITUTION</td>\n",
       "      <td>LOITERING FOR PURPOSE OF PROSTITUTION</td>\n",
       "      <td>Thursday</td>\n",
       "      <td>NORTHERN</td>\n",
       "      <td>ARREST, BOOKED</td>\n",
       "      <td>1500 Block of VANNESS AV</td>\n",
       "      <td>-122.422063</td>\n",
       "      <td>37.789920</td>\n",
       "    </tr>\n",
       "    <tr>\n",
       "      <th>715889</th>\n",
       "      <td>2005-03-23 21:30:00</td>\n",
       "      <td>BURGLARY</td>\n",
       "      <td>BURGLARY, FORCIBLE ENTRY</td>\n",
       "      <td>Wednesday</td>\n",
       "      <td>PARK</td>\n",
       "      <td>NONE</td>\n",
       "      <td>500 Block of DIVISADERO ST</td>\n",
       "      <td>-122.437823</td>\n",
       "      <td>37.774522</td>\n",
       "    </tr>\n",
       "    <tr>\n",
       "      <th>642712</th>\n",
       "      <td>2006-04-04 00:39:00</td>\n",
       "      <td>OTHER OFFENSES</td>\n",
       "      <td>DRIVERS LICENSE, SUSPENDED OR REVOKED</td>\n",
       "      <td>Tuesday</td>\n",
       "      <td>CENTRAL</td>\n",
       "      <td>ARREST, CITED</td>\n",
       "      <td>BROADWAY ST / STOCKTON ST</td>\n",
       "      <td>-122.408623</td>\n",
       "      <td>37.797627</td>\n",
       "    </tr>\n",
       "    <tr>\n",
       "      <th>621784</th>\n",
       "      <td>2006-07-16 09:00:00</td>\n",
       "      <td>VANDALISM</td>\n",
       "      <td>MALICIOUS MISCHIEF, VANDALISM</td>\n",
       "      <td>Sunday</td>\n",
       "      <td>SOUTHERN</td>\n",
       "      <td>NONE</td>\n",
       "      <td>800 Block of BRYANT ST</td>\n",
       "      <td>-122.403405</td>\n",
       "      <td>37.775421</td>\n",
       "    </tr>\n",
       "    <tr>\n",
       "      <th>721235</th>\n",
       "      <td>2005-02-24 08:43:00</td>\n",
       "      <td>OTHER OFFENSES</td>\n",
       "      <td>DRIVERS LICENSE, SUSPENDED OR REVOKED</td>\n",
       "      <td>Thursday</td>\n",
       "      <td>INGLESIDE</td>\n",
       "      <td>ARREST, CITED</td>\n",
       "      <td>VIRGINIA AV / MISSION ST</td>\n",
       "      <td>-122.421489</td>\n",
       "      <td>37.743122</td>\n",
       "    </tr>\n",
       "  </tbody>\n",
       "</table>\n",
       "</div>"
      ],
      "text/plain": [
       "                      Dates        Category  \\\n",
       "2451    2015-04-30 15:38:00    PROSTITUTION   \n",
       "715889  2005-03-23 21:30:00        BURGLARY   \n",
       "642712  2006-04-04 00:39:00  OTHER OFFENSES   \n",
       "621784  2006-07-16 09:00:00       VANDALISM   \n",
       "721235  2005-02-24 08:43:00  OTHER OFFENSES   \n",
       "\n",
       "                                     Descript  DayOfWeek PdDistrict  \\\n",
       "2451    LOITERING FOR PURPOSE OF PROSTITUTION   Thursday   NORTHERN   \n",
       "715889               BURGLARY, FORCIBLE ENTRY  Wednesday       PARK   \n",
       "642712  DRIVERS LICENSE, SUSPENDED OR REVOKED    Tuesday    CENTRAL   \n",
       "621784          MALICIOUS MISCHIEF, VANDALISM     Sunday   SOUTHERN   \n",
       "721235  DRIVERS LICENSE, SUSPENDED OR REVOKED   Thursday  INGLESIDE   \n",
       "\n",
       "            Resolution                     Address           X          Y  \n",
       "2451    ARREST, BOOKED    1500 Block of VANNESS AV -122.422063  37.789920  \n",
       "715889            NONE  500 Block of DIVISADERO ST -122.437823  37.774522  \n",
       "642712   ARREST, CITED   BROADWAY ST / STOCKTON ST -122.408623  37.797627  \n",
       "621784            NONE      800 Block of BRYANT ST -122.403405  37.775421  \n",
       "721235   ARREST, CITED    VIRGINIA AV / MISSION ST -122.421489  37.743122  "
      ]
     },
     "execution_count": 15,
     "metadata": {},
     "output_type": "execute_result"
    }
   ],
   "source": [
    "# Show 5 random rows from dataset\n",
    "train_df.sample(5)"
   ]
  },
  {
   "cell_type": "markdown",
   "metadata": {
    "_uuid": "0816a7e7a6bce269674f1a68a4d48ed32169d5ad",
    "id": "yepd8P9_1ySv"
   },
   "source": [
    "## Preprocessing & Feature Engineering"
   ]
  },
  {
   "cell_type": "code",
   "execution_count": 16,
   "metadata": {
    "_uuid": "7021343575458aaa873148075f62d2e6dd148c56",
    "colab": {
     "base_uri": "https://localhost:8080/",
     "height": 131
    },
    "id": "70FIEfAa1ySv",
    "outputId": "feb13c66-3bbc-4de0-8f8a-7255f2b698b6"
   },
   "outputs": [],
   "source": [
    "train_df = train_df.drop('Resolution', axis=1)"
   ]
  },
  {
   "cell_type": "code",
   "execution_count": 17,
   "metadata": {
    "_uuid": "2f7763ec086bfa0dd8021dae5498678e4f1cac2d",
    "colab": {
     "base_uri": "https://localhost:8080/"
    },
    "id": "D7zuMSLV1ySw",
    "outputId": "1d442444-72fe-49a8-a36d-e3a1d630617a"
   },
   "outputs": [
    {
     "data": {
      "text/plain": [
       "dtype('O')"
      ]
     },
     "execution_count": 17,
     "metadata": {},
     "output_type": "execute_result"
    }
   ],
   "source": [
    "train_df.Dates.dtype"
   ]
  },
  {
   "cell_type": "markdown",
   "metadata": {
    "_uuid": "9c2627a666613faaf54c433d84649511c92b6886",
    "id": "qNPh_ifK1ySw"
   },
   "source": [
    "### Missing Values"
   ]
  },
  {
   "cell_type": "code",
   "execution_count": 18,
   "metadata": {
    "_uuid": "59fff66423c493f05f4630aa7b6c271d144a0e9e",
    "id": "F09FMn2U1ySx"
   },
   "outputs": [],
   "source": [
    "assert train_df.Dates.isnull().any() == False\n",
    "assert test_df.Dates.isnull().any() == False"
   ]
  },
  {
   "cell_type": "code",
   "execution_count": 19,
   "metadata": {
    "_uuid": "a7908c031af864b09e93e9b90d2bd48020d60c59",
    "id": "WFP8NVGg1ySx"
   },
   "outputs": [],
   "source": [
    "assert train_df.Dates.str.match('\\d\\d\\d\\d-\\d\\d-\\d\\d \\d\\d:\\d\\d:\\d\\d').all() == True\n",
    "assert test_df.Dates.str.match('\\d\\d\\d\\d-\\d\\d-\\d\\d \\d\\d:\\d\\d:\\d\\d').all() == True"
   ]
  },
  {
   "cell_type": "code",
   "execution_count": 20,
   "metadata": {
    "_uuid": "94a83f26f4ef8ef8718cb772862168da35886788",
    "colab": {
     "base_uri": "https://localhost:8080/",
     "height": 131
    },
    "id": "2QPbYPm_1ySx",
    "outputId": "1921693a-ec49-4aca-d69b-fb03293ff54e"
   },
   "outputs": [
    {
     "data": {
      "text/html": [
       "<div>\n",
       "<style scoped>\n",
       "    .dataframe tbody tr th:only-of-type {\n",
       "        vertical-align: middle;\n",
       "    }\n",
       "\n",
       "    .dataframe tbody tr th {\n",
       "        vertical-align: top;\n",
       "    }\n",
       "\n",
       "    .dataframe thead th {\n",
       "        text-align: right;\n",
       "    }\n",
       "</style>\n",
       "<table border=\"1\" class=\"dataframe\">\n",
       "  <thead>\n",
       "    <tr style=\"text-align: right;\">\n",
       "      <th></th>\n",
       "      <th>Category</th>\n",
       "      <th>Descript</th>\n",
       "      <th>DayOfWeek</th>\n",
       "      <th>PdDistrict</th>\n",
       "      <th>Address</th>\n",
       "      <th>X</th>\n",
       "      <th>Y</th>\n",
       "      <th>Date</th>\n",
       "    </tr>\n",
       "  </thead>\n",
       "  <tbody>\n",
       "    <tr>\n",
       "      <th>682710</th>\n",
       "      <td>LARCENY/THEFT</td>\n",
       "      <td>PETTY THEFT FROM A BUILDING</td>\n",
       "      <td>Friday</td>\n",
       "      <td>TARAVAL</td>\n",
       "      <td>1100 Block of JUNIPERO SERRA BL</td>\n",
       "      <td>-122.472712</td>\n",
       "      <td>37.717868</td>\n",
       "      <td>2005-09-09 08:29:00</td>\n",
       "    </tr>\n",
       "  </tbody>\n",
       "</table>\n",
       "</div>"
      ],
      "text/plain": [
       "             Category                     Descript DayOfWeek PdDistrict  \\\n",
       "682710  LARCENY/THEFT  PETTY THEFT FROM A BUILDING    Friday    TARAVAL   \n",
       "\n",
       "                                Address           X          Y  \\\n",
       "682710  1100 Block of JUNIPERO SERRA BL -122.472712  37.717868   \n",
       "\n",
       "                      Date  \n",
       "682710 2005-09-09 08:29:00  "
      ]
     },
     "execution_count": 20,
     "metadata": {},
     "output_type": "execute_result"
    }
   ],
   "source": [
    "train_df['Date'] = pd.to_datetime(train_df.Dates)\n",
    "test_df['Date'] = pd.to_datetime(test_df.Dates)\n",
    "\n",
    "train_df = train_df.drop('Dates', axis=1)\n",
    "test_df = test_df.drop('Dates', axis=1)\n",
    "train_df.sample(1)"
   ]
  },
  {
   "cell_type": "code",
   "execution_count": 21,
   "metadata": {
    "_uuid": "0c5c428ebf6a43bf50665b0a053b68f888d630cd",
    "colab": {
     "base_uri": "https://localhost:8080/"
    },
    "id": "6GxEeK061ySy",
    "outputId": "81d71105-9a74-4219-8e68-da8d8b0fb654"
   },
   "outputs": [
    {
     "data": {
      "text/plain": [
       "dtype('<M8[ns]')"
      ]
     },
     "execution_count": 21,
     "metadata": {},
     "output_type": "execute_result"
    }
   ],
   "source": [
    "# Confirm that it was parsed to Datetime\n",
    "train_df.Date.dtype"
   ]
  },
  {
   "cell_type": "markdown",
   "metadata": {
    "_uuid": "3f691c2582672025a02424f55474e44287613d6e",
    "id": "7KVASEuO1ySy"
   },
   "source": [
    "## Time of Day"
   ]
  },
  {
   "cell_type": "code",
   "execution_count": 22,
   "metadata": {
    "_uuid": "cc73b9f9f88311489ac6b7a6cb5ae46187a0b3c5",
    "colab": {
     "base_uri": "https://localhost:8080/",
     "height": 315
    },
    "id": "yCcV1fEr1ySy",
    "outputId": "749062af-535f-4e37-b1a6-5c6f777ef7f5"
   },
   "outputs": [
    {
     "data": {
      "text/html": [
       "<div>\n",
       "<style scoped>\n",
       "    .dataframe tbody tr th:only-of-type {\n",
       "        vertical-align: middle;\n",
       "    }\n",
       "\n",
       "    .dataframe tbody tr th {\n",
       "        vertical-align: top;\n",
       "    }\n",
       "\n",
       "    .dataframe thead th {\n",
       "        text-align: right;\n",
       "    }\n",
       "</style>\n",
       "<table border=\"1\" class=\"dataframe\">\n",
       "  <thead>\n",
       "    <tr style=\"text-align: right;\">\n",
       "      <th></th>\n",
       "      <th>Category</th>\n",
       "      <th>Descript</th>\n",
       "      <th>DayOfWeek</th>\n",
       "      <th>PdDistrict</th>\n",
       "      <th>Address</th>\n",
       "      <th>X</th>\n",
       "      <th>Y</th>\n",
       "      <th>Date</th>\n",
       "      <th>IsDay</th>\n",
       "    </tr>\n",
       "  </thead>\n",
       "  <tbody>\n",
       "    <tr>\n",
       "      <th>703924</th>\n",
       "      <td>VANDALISM</td>\n",
       "      <td>MALICIOUS MISCHIEF, VANDALISM OF VEHICLES</td>\n",
       "      <td>Saturday</td>\n",
       "      <td>TARAVAL</td>\n",
       "      <td>38TH AV / RIVERA ST</td>\n",
       "      <td>-122.496310</td>\n",
       "      <td>37.745878</td>\n",
       "      <td>2005-05-21 00:01:00</td>\n",
       "      <td>0</td>\n",
       "    </tr>\n",
       "    <tr>\n",
       "      <th>275945</th>\n",
       "      <td>ASSAULT</td>\n",
       "      <td>AGGRAVATED ASSAULT WITH A KNIFE</td>\n",
       "      <td>Friday</td>\n",
       "      <td>RICHMOND</td>\n",
       "      <td>3900 Block of GEARY BL</td>\n",
       "      <td>-122.461620</td>\n",
       "      <td>37.781260</td>\n",
       "      <td>2011-08-12 01:25:00</td>\n",
       "      <td>0</td>\n",
       "    </tr>\n",
       "    <tr>\n",
       "      <th>129279</th>\n",
       "      <td>KIDNAPPING</td>\n",
       "      <td>FALSE IMPRISONMENT</td>\n",
       "      <td>Friday</td>\n",
       "      <td>MISSION</td>\n",
       "      <td>2800 Block of 23RD ST</td>\n",
       "      <td>-122.409742</td>\n",
       "      <td>37.754424</td>\n",
       "      <td>2013-08-23 19:09:00</td>\n",
       "      <td>1</td>\n",
       "    </tr>\n",
       "  </tbody>\n",
       "</table>\n",
       "</div>"
      ],
      "text/plain": [
       "          Category                                   Descript DayOfWeek  \\\n",
       "703924   VANDALISM  MALICIOUS MISCHIEF, VANDALISM OF VEHICLES  Saturday   \n",
       "275945     ASSAULT            AGGRAVATED ASSAULT WITH A KNIFE    Friday   \n",
       "129279  KIDNAPPING                         FALSE IMPRISONMENT    Friday   \n",
       "\n",
       "       PdDistrict                 Address           X          Y  \\\n",
       "703924    TARAVAL     38TH AV / RIVERA ST -122.496310  37.745878   \n",
       "275945   RICHMOND  3900 Block of GEARY BL -122.461620  37.781260   \n",
       "129279    MISSION   2800 Block of 23RD ST -122.409742  37.754424   \n",
       "\n",
       "                      Date  IsDay  \n",
       "703924 2005-05-21 00:01:00      0  \n",
       "275945 2011-08-12 01:25:00      0  \n",
       "129279 2013-08-23 19:09:00      1  "
      ]
     },
     "execution_count": 22,
     "metadata": {},
     "output_type": "execute_result"
    }
   ],
   "source": [
    "train_df['IsDay'] = 0\n",
    "train_df.loc[ (train_df.Date.dt.hour > 6) & (train_df.Date.dt.hour < 20), 'IsDay' ] = 1\n",
    "test_df['IsDay'] = 0\n",
    "test_df.loc[ (test_df.Date.dt.hour > 6) & (test_df.Date.dt.hour < 20), 'IsDay' ] = 1\n",
    "\n",
    "train_df.sample(3)"
   ]
  },
  {
   "cell_type": "code",
   "execution_count": 23,
   "metadata": {
    "_uuid": "127119e5e4657d49bc8925d9b20613a17be2ae21",
    "colab": {
     "base_uri": "https://localhost:8080/"
    },
    "id": "NWhvh9PF1ySz",
    "outputId": "959039b2-c577-4120-9c0e-afa9d643122a"
   },
   "outputs": [
    {
     "data": {
      "text/plain": [
       "array([3, 2, 1, 7, 6, 5, 4])"
      ]
     },
     "execution_count": 23,
     "metadata": {},
     "output_type": "execute_result"
    }
   ],
   "source": [
    "days_to_int_dic = {\n",
    "        'Monday': 1,\n",
    "        'Tuesday': 2,\n",
    "        'Wednesday': 3,\n",
    "        'Thursday': 4,\n",
    "        'Friday': 5,\n",
    "        'Saturday': 6,\n",
    "        'Sunday': 7,\n",
    "}\n",
    "train_df['DayOfWeek'] = train_df['DayOfWeek'].map(days_to_int_dic)\n",
    "test_df ['DayOfWeek'] = test_df ['DayOfWeek'].map(days_to_int_dic)\n",
    "\n",
    "train_df.DayOfWeek.unique()"
   ]
  },
  {
   "cell_type": "code",
   "execution_count": 24,
   "metadata": {
    "_uuid": "d480c06569e8c120d898f9682d669cb8e5fa0cf7",
    "colab": {
     "base_uri": "https://localhost:8080/",
     "height": 151
    },
    "id": "MVyPC1ve1yS0",
    "outputId": "368d0bc8-c44a-4a4b-89e2-f2bf89af3335"
   },
   "outputs": [
    {
     "data": {
      "text/html": [
       "<div>\n",
       "<style scoped>\n",
       "    .dataframe tbody tr th:only-of-type {\n",
       "        vertical-align: middle;\n",
       "    }\n",
       "\n",
       "    .dataframe tbody tr th {\n",
       "        vertical-align: top;\n",
       "    }\n",
       "\n",
       "    .dataframe thead th {\n",
       "        text-align: right;\n",
       "    }\n",
       "</style>\n",
       "<table border=\"1\" class=\"dataframe\">\n",
       "  <thead>\n",
       "    <tr style=\"text-align: right;\">\n",
       "      <th></th>\n",
       "      <th>Category</th>\n",
       "      <th>Descript</th>\n",
       "      <th>DayOfWeek</th>\n",
       "      <th>PdDistrict</th>\n",
       "      <th>Address</th>\n",
       "      <th>X</th>\n",
       "      <th>Y</th>\n",
       "      <th>Date</th>\n",
       "      <th>IsDay</th>\n",
       "      <th>Hour</th>\n",
       "      <th>Month</th>\n",
       "      <th>Year</th>\n",
       "    </tr>\n",
       "  </thead>\n",
       "  <tbody>\n",
       "    <tr>\n",
       "      <th>538194</th>\n",
       "      <td>LARCENY/THEFT</td>\n",
       "      <td>PETTY THEFT WITH PRIOR</td>\n",
       "      <td>6</td>\n",
       "      <td>SOUTHERN</td>\n",
       "      <td>700 Block of MARKET ST</td>\n",
       "      <td>-122.405359</td>\n",
       "      <td>37.785977</td>\n",
       "      <td>2007-10-06 13:10:00</td>\n",
       "      <td>1</td>\n",
       "      <td>13</td>\n",
       "      <td>10</td>\n",
       "      <td>7</td>\n",
       "    </tr>\n",
       "  </tbody>\n",
       "</table>\n",
       "</div>"
      ],
      "text/plain": [
       "             Category                Descript  DayOfWeek PdDistrict  \\\n",
       "538194  LARCENY/THEFT  PETTY THEFT WITH PRIOR          6   SOUTHERN   \n",
       "\n",
       "                       Address           X          Y                Date  \\\n",
       "538194  700 Block of MARKET ST -122.405359  37.785977 2007-10-06 13:10:00   \n",
       "\n",
       "        IsDay  Hour  Month  Year  \n",
       "538194      1    13     10     7  "
      ]
     },
     "execution_count": 24,
     "metadata": {},
     "output_type": "execute_result"
    }
   ],
   "source": [
    "train_df['Hour'] = train_df.Date.dt.hour\n",
    "train_df['Month'] = train_df.Date.dt.month\n",
    "train_df['Year'] = train_df.Date.dt.year\n",
    "train_df['Year'] = train_df['Year'] - 2000 # The Algorithm doesn't know the difference. It's just easier to work like that\n",
    "\n",
    "test_df['Hour'] = test_df.Date.dt.hour\n",
    "test_df['Month'] = test_df.Date.dt.month\n",
    "test_df['Year'] = test_df.Date.dt.year\n",
    "test_df['Year'] = test_df['Year'] - 2000 # The Algorithm doesn't know the difference. It's just easier to work like that\n",
    "\n",
    "train_df.sample(1)"
   ]
  },
  {
   "cell_type": "code",
   "execution_count": 25,
   "metadata": {
    "_uuid": "73b987093c55bc2718e9d2b25bb605ec0e3b9f6b",
    "colab": {
     "base_uri": "https://localhost:8080/",
     "height": 151
    },
    "id": "wZgkRJ2h1yS3",
    "outputId": "8ae5f6cf-bc83-4054-914b-d5ffb6a9c9f1"
   },
   "outputs": [
    {
     "data": {
      "text/html": [
       "<div>\n",
       "<style scoped>\n",
       "    .dataframe tbody tr th:only-of-type {\n",
       "        vertical-align: middle;\n",
       "    }\n",
       "\n",
       "    .dataframe tbody tr th {\n",
       "        vertical-align: top;\n",
       "    }\n",
       "\n",
       "    .dataframe thead th {\n",
       "        text-align: right;\n",
       "    }\n",
       "</style>\n",
       "<table border=\"1\" class=\"dataframe\">\n",
       "  <thead>\n",
       "    <tr style=\"text-align: right;\">\n",
       "      <th></th>\n",
       "      <th>Category</th>\n",
       "      <th>Descript</th>\n",
       "      <th>DayOfWeek</th>\n",
       "      <th>PdDistrict</th>\n",
       "      <th>Address</th>\n",
       "      <th>X</th>\n",
       "      <th>Y</th>\n",
       "      <th>Date</th>\n",
       "      <th>IsDay</th>\n",
       "      <th>Hour</th>\n",
       "      <th>Month</th>\n",
       "      <th>Year</th>\n",
       "      <th>HourCos</th>\n",
       "      <th>DayOfWeekCos</th>\n",
       "      <th>MonthCos</th>\n",
       "    </tr>\n",
       "  </thead>\n",
       "  <tbody>\n",
       "    <tr>\n",
       "      <th>161135</th>\n",
       "      <td>FRAUD</td>\n",
       "      <td>DEFRAUDING AN INNKEEPER</td>\n",
       "      <td>6</td>\n",
       "      <td>SOUTHERN</td>\n",
       "      <td>1200 Block of MARKET ST</td>\n",
       "      <td>-122.415449</td>\n",
       "      <td>37.778294</td>\n",
       "      <td>2013-03-23 23:55:00</td>\n",
       "      <td>0</td>\n",
       "      <td>23</td>\n",
       "      <td>3</td>\n",
       "      <td>13</td>\n",
       "      <td>0.965926</td>\n",
       "      <td>0.62349</td>\n",
       "      <td>6.123234e-17</td>\n",
       "    </tr>\n",
       "  </tbody>\n",
       "</table>\n",
       "</div>"
      ],
      "text/plain": [
       "       Category                 Descript  DayOfWeek PdDistrict  \\\n",
       "161135    FRAUD  DEFRAUDING AN INNKEEPER          6   SOUTHERN   \n",
       "\n",
       "                        Address           X          Y                Date  \\\n",
       "161135  1200 Block of MARKET ST -122.415449  37.778294 2013-03-23 23:55:00   \n",
       "\n",
       "        IsDay  Hour  Month  Year   HourCos  DayOfWeekCos      MonthCos  \n",
       "161135      0    23      3    13  0.965926       0.62349  6.123234e-17  "
      ]
     },
     "execution_count": 25,
     "metadata": {},
     "output_type": "execute_result"
    }
   ],
   "source": [
    "train_df['HourCos'] = np.cos((train_df['Hour']*2*np.pi)/24 )\n",
    "train_df['DayOfWeekCos'] = np.cos((train_df['DayOfWeek']*2*np.pi)/7 )\n",
    "train_df['MonthCos'] = np.cos((train_df['Month']*2*np.pi)/12 )\n",
    "\n",
    "test_df['HourCos'] = np.cos((test_df['Hour']*2*np.pi)/24 )\n",
    "test_df['DayOfWeekCos'] = np.cos((test_df['DayOfWeek']*2*np.pi)/7 )\n",
    "test_df['MonthCos'] = np.cos((test_df['Month']*2*np.pi)/12 )\n",
    "\n",
    "train_df.sample(1)"
   ]
  },
  {
   "cell_type": "code",
   "execution_count": 26,
   "metadata": {
    "_uuid": "196159c60c4ace69c39488699c811cbe40a408af",
    "colab": {
     "base_uri": "https://localhost:8080/",
     "height": 233
    },
    "id": "sVRdlCMS1yS3",
    "outputId": "9eabf876-e16c-419b-e114-de0b8ef10808"
   },
   "outputs": [
    {
     "data": {
      "text/html": [
       "<div>\n",
       "<style scoped>\n",
       "    .dataframe tbody tr th:only-of-type {\n",
       "        vertical-align: middle;\n",
       "    }\n",
       "\n",
       "    .dataframe tbody tr th {\n",
       "        vertical-align: top;\n",
       "    }\n",
       "\n",
       "    .dataframe thead th {\n",
       "        text-align: right;\n",
       "    }\n",
       "</style>\n",
       "<table border=\"1\" class=\"dataframe\">\n",
       "  <thead>\n",
       "    <tr style=\"text-align: right;\">\n",
       "      <th></th>\n",
       "      <th>Category</th>\n",
       "      <th>Descript</th>\n",
       "      <th>DayOfWeek</th>\n",
       "      <th>Address</th>\n",
       "      <th>X</th>\n",
       "      <th>Y</th>\n",
       "      <th>Date</th>\n",
       "      <th>IsDay</th>\n",
       "      <th>Hour</th>\n",
       "      <th>Month</th>\n",
       "      <th>...</th>\n",
       "      <th>PdDistrict_BAYVIEW</th>\n",
       "      <th>PdDistrict_CENTRAL</th>\n",
       "      <th>PdDistrict_INGLESIDE</th>\n",
       "      <th>PdDistrict_MISSION</th>\n",
       "      <th>PdDistrict_NORTHERN</th>\n",
       "      <th>PdDistrict_PARK</th>\n",
       "      <th>PdDistrict_RICHMOND</th>\n",
       "      <th>PdDistrict_SOUTHERN</th>\n",
       "      <th>PdDistrict_TARAVAL</th>\n",
       "      <th>PdDistrict_TENDERLOIN</th>\n",
       "    </tr>\n",
       "  </thead>\n",
       "  <tbody>\n",
       "    <tr>\n",
       "      <th>446062</th>\n",
       "      <td>PROSTITUTION</td>\n",
       "      <td>SOLICITS TO VISIT HOUSE OF PROSTITUTION</td>\n",
       "      <td>2</td>\n",
       "      <td>17TH ST / SHOTWELL ST</td>\n",
       "      <td>-122.416230</td>\n",
       "      <td>37.763634</td>\n",
       "      <td>2009-02-03 09:08:00</td>\n",
       "      <td>1</td>\n",
       "      <td>9</td>\n",
       "      <td>2</td>\n",
       "      <td>...</td>\n",
       "      <td>0</td>\n",
       "      <td>0</td>\n",
       "      <td>0</td>\n",
       "      <td>1</td>\n",
       "      <td>0</td>\n",
       "      <td>0</td>\n",
       "      <td>0</td>\n",
       "      <td>0</td>\n",
       "      <td>0</td>\n",
       "      <td>0</td>\n",
       "    </tr>\n",
       "    <tr>\n",
       "      <th>506332</th>\n",
       "      <td>LARCENY/THEFT</td>\n",
       "      <td>GRAND THEFT FROM LOCKED AUTO</td>\n",
       "      <td>6</td>\n",
       "      <td>1700 Block of PACIFIC AV</td>\n",
       "      <td>-122.424076</td>\n",
       "      <td>37.794765</td>\n",
       "      <td>2008-03-22 22:00:00</td>\n",
       "      <td>0</td>\n",
       "      <td>22</td>\n",
       "      <td>3</td>\n",
       "      <td>...</td>\n",
       "      <td>0</td>\n",
       "      <td>0</td>\n",
       "      <td>0</td>\n",
       "      <td>0</td>\n",
       "      <td>1</td>\n",
       "      <td>0</td>\n",
       "      <td>0</td>\n",
       "      <td>0</td>\n",
       "      <td>0</td>\n",
       "      <td>0</td>\n",
       "    </tr>\n",
       "  </tbody>\n",
       "</table>\n",
       "<p>2 rows × 24 columns</p>\n",
       "</div>"
      ],
      "text/plain": [
       "             Category                                 Descript  DayOfWeek  \\\n",
       "446062   PROSTITUTION  SOLICITS TO VISIT HOUSE OF PROSTITUTION          2   \n",
       "506332  LARCENY/THEFT             GRAND THEFT FROM LOCKED AUTO          6   \n",
       "\n",
       "                         Address           X          Y                Date  \\\n",
       "446062     17TH ST / SHOTWELL ST -122.416230  37.763634 2009-02-03 09:08:00   \n",
       "506332  1700 Block of PACIFIC AV -122.424076  37.794765 2008-03-22 22:00:00   \n",
       "\n",
       "        IsDay  Hour  Month  ...  PdDistrict_BAYVIEW  PdDistrict_CENTRAL  \\\n",
       "446062      1     9      2  ...                   0                   0   \n",
       "506332      0    22      3  ...                   0                   0   \n",
       "\n",
       "        PdDistrict_INGLESIDE  PdDistrict_MISSION  PdDistrict_NORTHERN  \\\n",
       "446062                     0                   1                    0   \n",
       "506332                     0                   0                    1   \n",
       "\n",
       "        PdDistrict_PARK  PdDistrict_RICHMOND  PdDistrict_SOUTHERN  \\\n",
       "446062                0                    0                    0   \n",
       "506332                0                    0                    0   \n",
       "\n",
       "        PdDistrict_TARAVAL  PdDistrict_TENDERLOIN  \n",
       "446062                   0                      0  \n",
       "506332                   0                      0  \n",
       "\n",
       "[2 rows x 24 columns]"
      ]
     },
     "execution_count": 26,
     "metadata": {},
     "output_type": "execute_result"
    }
   ],
   "source": [
    "train_df = pd.get_dummies(train_df, columns=['PdDistrict'])\n",
    "test_df  = pd.get_dummies(test_df,  columns=['PdDistrict'])\n",
    "train_df.sample(2)"
   ]
  },
  {
   "cell_type": "markdown",
   "metadata": {
    "_uuid": "53427439b30148a887df3138ebfd780871a72cba",
    "id": "uQ4B64EU1yS3"
   },
   "source": [
    "### Label Encoding"
   ]
  },
  {
   "cell_type": "code",
   "execution_count": 27,
   "metadata": {
    "_uuid": "c68a7bcf63d9537550487911be31b4af81986c7b",
    "colab": {
     "base_uri": "https://localhost:8080/",
     "height": 411
    },
    "id": "c42chLCg1yS4",
    "outputId": "931df7de-d805-486c-b9c7-742fecedbdee"
   },
   "outputs": [
    {
     "data": {
      "text/html": [
       "<div>\n",
       "<style scoped>\n",
       "    .dataframe tbody tr th:only-of-type {\n",
       "        vertical-align: middle;\n",
       "    }\n",
       "\n",
       "    .dataframe tbody tr th {\n",
       "        vertical-align: top;\n",
       "    }\n",
       "\n",
       "    .dataframe thead th {\n",
       "        text-align: right;\n",
       "    }\n",
       "</style>\n",
       "<table border=\"1\" class=\"dataframe\">\n",
       "  <thead>\n",
       "    <tr style=\"text-align: right;\">\n",
       "      <th></th>\n",
       "      <th>Category</th>\n",
       "      <th>Descript</th>\n",
       "      <th>DayOfWeek</th>\n",
       "      <th>Address</th>\n",
       "      <th>X</th>\n",
       "      <th>Y</th>\n",
       "      <th>Date</th>\n",
       "      <th>IsDay</th>\n",
       "      <th>Hour</th>\n",
       "      <th>Month</th>\n",
       "      <th>...</th>\n",
       "      <th>PdDistrict_CENTRAL</th>\n",
       "      <th>PdDistrict_INGLESIDE</th>\n",
       "      <th>PdDistrict_MISSION</th>\n",
       "      <th>PdDistrict_NORTHERN</th>\n",
       "      <th>PdDistrict_PARK</th>\n",
       "      <th>PdDistrict_RICHMOND</th>\n",
       "      <th>PdDistrict_SOUTHERN</th>\n",
       "      <th>PdDistrict_TARAVAL</th>\n",
       "      <th>PdDistrict_TENDERLOIN</th>\n",
       "      <th>CategoryInt</th>\n",
       "    </tr>\n",
       "  </thead>\n",
       "  <tbody>\n",
       "    <tr>\n",
       "      <th>826582</th>\n",
       "      <td>LARCENY/THEFT</td>\n",
       "      <td>GRAND THEFT FROM LOCKED AUTO</td>\n",
       "      <td>6</td>\n",
       "      <td>ALABAMA ST / 20TH ST</td>\n",
       "      <td>-122.411581</td>\n",
       "      <td>37.759083</td>\n",
       "      <td>2003-09-06 23:00:00</td>\n",
       "      <td>0</td>\n",
       "      <td>23</td>\n",
       "      <td>9</td>\n",
       "      <td>...</td>\n",
       "      <td>0</td>\n",
       "      <td>0</td>\n",
       "      <td>1</td>\n",
       "      <td>0</td>\n",
       "      <td>0</td>\n",
       "      <td>0</td>\n",
       "      <td>0</td>\n",
       "      <td>0</td>\n",
       "      <td>0</td>\n",
       "      <td>16</td>\n",
       "    </tr>\n",
       "    <tr>\n",
       "      <th>680176</th>\n",
       "      <td>ASSAULT</td>\n",
       "      <td>BATTERY</td>\n",
       "      <td>4</td>\n",
       "      <td>600 Block of OFARRELL ST</td>\n",
       "      <td>-122.415972</td>\n",
       "      <td>37.785357</td>\n",
       "      <td>2005-09-22 18:35:00</td>\n",
       "      <td>1</td>\n",
       "      <td>18</td>\n",
       "      <td>9</td>\n",
       "      <td>...</td>\n",
       "      <td>0</td>\n",
       "      <td>0</td>\n",
       "      <td>0</td>\n",
       "      <td>0</td>\n",
       "      <td>0</td>\n",
       "      <td>0</td>\n",
       "      <td>0</td>\n",
       "      <td>0</td>\n",
       "      <td>1</td>\n",
       "      <td>1</td>\n",
       "    </tr>\n",
       "    <tr>\n",
       "      <th>704771</th>\n",
       "      <td>LARCENY/THEFT</td>\n",
       "      <td>ATTEMPTED PETTY THEFT OF PROPERTY</td>\n",
       "      <td>4</td>\n",
       "      <td>700 Block of JONES ST</td>\n",
       "      <td>-122.413547</td>\n",
       "      <td>37.788278</td>\n",
       "      <td>2005-05-19 06:30:00</td>\n",
       "      <td>0</td>\n",
       "      <td>6</td>\n",
       "      <td>5</td>\n",
       "      <td>...</td>\n",
       "      <td>1</td>\n",
       "      <td>0</td>\n",
       "      <td>0</td>\n",
       "      <td>0</td>\n",
       "      <td>0</td>\n",
       "      <td>0</td>\n",
       "      <td>0</td>\n",
       "      <td>0</td>\n",
       "      <td>0</td>\n",
       "      <td>16</td>\n",
       "    </tr>\n",
       "    <tr>\n",
       "      <th>275503</th>\n",
       "      <td>OTHER OFFENSES</td>\n",
       "      <td>PAROLE VIOLATION</td>\n",
       "      <td>6</td>\n",
       "      <td>IRVING ST / 9TH AV</td>\n",
       "      <td>-122.466310</td>\n",
       "      <td>37.764037</td>\n",
       "      <td>2011-08-13 07:00:00</td>\n",
       "      <td>1</td>\n",
       "      <td>7</td>\n",
       "      <td>8</td>\n",
       "      <td>...</td>\n",
       "      <td>0</td>\n",
       "      <td>0</td>\n",
       "      <td>0</td>\n",
       "      <td>0</td>\n",
       "      <td>0</td>\n",
       "      <td>0</td>\n",
       "      <td>0</td>\n",
       "      <td>1</td>\n",
       "      <td>0</td>\n",
       "      <td>21</td>\n",
       "    </tr>\n",
       "    <tr>\n",
       "      <th>102199</th>\n",
       "      <td>DRUG/NARCOTIC</td>\n",
       "      <td>POSSESSION OF HEROIN FOR SALES</td>\n",
       "      <td>1</td>\n",
       "      <td>GOLDEN GATE AV / LEAVENWORTH ST</td>\n",
       "      <td>-122.413870</td>\n",
       "      <td>37.781862</td>\n",
       "      <td>2014-01-06 12:55:00</td>\n",
       "      <td>1</td>\n",
       "      <td>12</td>\n",
       "      <td>1</td>\n",
       "      <td>...</td>\n",
       "      <td>0</td>\n",
       "      <td>0</td>\n",
       "      <td>0</td>\n",
       "      <td>0</td>\n",
       "      <td>0</td>\n",
       "      <td>0</td>\n",
       "      <td>0</td>\n",
       "      <td>0</td>\n",
       "      <td>1</td>\n",
       "      <td>7</td>\n",
       "    </tr>\n",
       "  </tbody>\n",
       "</table>\n",
       "<p>5 rows × 25 columns</p>\n",
       "</div>"
      ],
      "text/plain": [
       "              Category                           Descript  DayOfWeek  \\\n",
       "826582   LARCENY/THEFT       GRAND THEFT FROM LOCKED AUTO          6   \n",
       "680176         ASSAULT                            BATTERY          4   \n",
       "704771   LARCENY/THEFT  ATTEMPTED PETTY THEFT OF PROPERTY          4   \n",
       "275503  OTHER OFFENSES                   PAROLE VIOLATION          6   \n",
       "102199   DRUG/NARCOTIC     POSSESSION OF HEROIN FOR SALES          1   \n",
       "\n",
       "                                Address           X          Y  \\\n",
       "826582             ALABAMA ST / 20TH ST -122.411581  37.759083   \n",
       "680176         600 Block of OFARRELL ST -122.415972  37.785357   \n",
       "704771            700 Block of JONES ST -122.413547  37.788278   \n",
       "275503               IRVING ST / 9TH AV -122.466310  37.764037   \n",
       "102199  GOLDEN GATE AV / LEAVENWORTH ST -122.413870  37.781862   \n",
       "\n",
       "                      Date  IsDay  Hour  Month  ...  PdDistrict_CENTRAL  \\\n",
       "826582 2003-09-06 23:00:00      0    23      9  ...                   0   \n",
       "680176 2005-09-22 18:35:00      1    18      9  ...                   0   \n",
       "704771 2005-05-19 06:30:00      0     6      5  ...                   1   \n",
       "275503 2011-08-13 07:00:00      1     7      8  ...                   0   \n",
       "102199 2014-01-06 12:55:00      1    12      1  ...                   0   \n",
       "\n",
       "        PdDistrict_INGLESIDE  PdDistrict_MISSION  PdDistrict_NORTHERN  \\\n",
       "826582                     0                   1                    0   \n",
       "680176                     0                   0                    0   \n",
       "704771                     0                   0                    0   \n",
       "275503                     0                   0                    0   \n",
       "102199                     0                   0                    0   \n",
       "\n",
       "        PdDistrict_PARK  PdDistrict_RICHMOND  PdDistrict_SOUTHERN  \\\n",
       "826582                0                    0                    0   \n",
       "680176                0                    0                    0   \n",
       "704771                0                    0                    0   \n",
       "275503                0                    0                    0   \n",
       "102199                0                    0                    0   \n",
       "\n",
       "        PdDistrict_TARAVAL  PdDistrict_TENDERLOIN  CategoryInt  \n",
       "826582                   0                      0           16  \n",
       "680176                   0                      1            1  \n",
       "704771                   0                      0           16  \n",
       "275503                   1                      0           21  \n",
       "102199                   0                      1            7  \n",
       "\n",
       "[5 rows x 25 columns]"
      ]
     },
     "execution_count": 27,
     "metadata": {},
     "output_type": "execute_result"
    }
   ],
   "source": [
    "from sklearn.preprocessing import LabelEncoder\n",
    "\n",
    "cat_le = LabelEncoder()\n",
    "train_df['CategoryInt'] = pd.Series(cat_le.fit_transform(train_df.Category))\n",
    "train_df.sample(5)\n",
    "#cat_le.classes_"
   ]
  },
  {
   "cell_type": "code",
   "execution_count": 28,
   "metadata": {
    "_uuid": "34d90601228c6da2f8c7b46d2bf6bacb6a1a5ddf",
    "id": "VS4t32-s1yS4"
   },
   "outputs": [],
   "source": [
    "train_df['InIntersection'] = 1\n",
    "train_df.loc[train_df.Address.str.contains('Block'), 'InIntersection'] = 0\n",
    "\n",
    "test_df['InIntersection'] = 1\n",
    "test_df.loc[test_df.Address.str.contains('Block'), 'InIntersection'] = 0"
   ]
  },
  {
   "cell_type": "code",
   "execution_count": 29,
   "metadata": {
    "_uuid": "d92b396515bc047817b3d40b9fad7fe7a57f8b4e",
    "colab": {
     "base_uri": "https://localhost:8080/",
     "height": 821
    },
    "id": "u5iO3-vv1yS5",
    "outputId": "d7e49838-d346-4209-9657-b9f560e0a096"
   },
   "outputs": [
    {
     "data": {
      "text/html": [
       "<div>\n",
       "<style scoped>\n",
       "    .dataframe tbody tr th:only-of-type {\n",
       "        vertical-align: middle;\n",
       "    }\n",
       "\n",
       "    .dataframe tbody tr th {\n",
       "        vertical-align: top;\n",
       "    }\n",
       "\n",
       "    .dataframe thead th {\n",
       "        text-align: right;\n",
       "    }\n",
       "</style>\n",
       "<table border=\"1\" class=\"dataframe\">\n",
       "  <thead>\n",
       "    <tr style=\"text-align: right;\">\n",
       "      <th></th>\n",
       "      <th>Category</th>\n",
       "      <th>Descript</th>\n",
       "      <th>DayOfWeek</th>\n",
       "      <th>Address</th>\n",
       "      <th>X</th>\n",
       "      <th>Y</th>\n",
       "      <th>Date</th>\n",
       "      <th>IsDay</th>\n",
       "      <th>Hour</th>\n",
       "      <th>Month</th>\n",
       "      <th>...</th>\n",
       "      <th>PdDistrict_INGLESIDE</th>\n",
       "      <th>PdDistrict_MISSION</th>\n",
       "      <th>PdDistrict_NORTHERN</th>\n",
       "      <th>PdDistrict_PARK</th>\n",
       "      <th>PdDistrict_RICHMOND</th>\n",
       "      <th>PdDistrict_SOUTHERN</th>\n",
       "      <th>PdDistrict_TARAVAL</th>\n",
       "      <th>PdDistrict_TENDERLOIN</th>\n",
       "      <th>CategoryInt</th>\n",
       "      <th>InIntersection</th>\n",
       "    </tr>\n",
       "  </thead>\n",
       "  <tbody>\n",
       "    <tr>\n",
       "      <th>104929</th>\n",
       "      <td>ASSAULT</td>\n",
       "      <td>THREATS AGAINST LIFE</td>\n",
       "      <td>6</td>\n",
       "      <td>14TH ST / MISSION ST</td>\n",
       "      <td>-122.419983</td>\n",
       "      <td>37.768273</td>\n",
       "      <td>2013-12-14 12:50:00</td>\n",
       "      <td>1</td>\n",
       "      <td>12</td>\n",
       "      <td>12</td>\n",
       "      <td>...</td>\n",
       "      <td>0</td>\n",
       "      <td>1</td>\n",
       "      <td>0</td>\n",
       "      <td>0</td>\n",
       "      <td>0</td>\n",
       "      <td>0</td>\n",
       "      <td>0</td>\n",
       "      <td>0</td>\n",
       "      <td>1</td>\n",
       "      <td>1</td>\n",
       "    </tr>\n",
       "    <tr>\n",
       "      <th>400901</th>\n",
       "      <td>OTHER OFFENSES</td>\n",
       "      <td>MISCELLANEOUS INVESTIGATION</td>\n",
       "      <td>7</td>\n",
       "      <td>700 Block of JERROLD AV</td>\n",
       "      <td>-122.373456</td>\n",
       "      <td>37.729680</td>\n",
       "      <td>2009-09-20 13:32:00</td>\n",
       "      <td>1</td>\n",
       "      <td>13</td>\n",
       "      <td>9</td>\n",
       "      <td>...</td>\n",
       "      <td>0</td>\n",
       "      <td>0</td>\n",
       "      <td>0</td>\n",
       "      <td>0</td>\n",
       "      <td>0</td>\n",
       "      <td>0</td>\n",
       "      <td>0</td>\n",
       "      <td>0</td>\n",
       "      <td>21</td>\n",
       "      <td>0</td>\n",
       "    </tr>\n",
       "    <tr>\n",
       "      <th>844591</th>\n",
       "      <td>DRUG/NARCOTIC</td>\n",
       "      <td>UNDER THE INFLUENCE OF CONTROLLED SUBSTANCES</td>\n",
       "      <td>4</td>\n",
       "      <td>200 Block of SHOTWELL ST</td>\n",
       "      <td>-122.416375</td>\n",
       "      <td>37.764423</td>\n",
       "      <td>2003-06-12 08:45:00</td>\n",
       "      <td>1</td>\n",
       "      <td>8</td>\n",
       "      <td>6</td>\n",
       "      <td>...</td>\n",
       "      <td>0</td>\n",
       "      <td>1</td>\n",
       "      <td>0</td>\n",
       "      <td>0</td>\n",
       "      <td>0</td>\n",
       "      <td>0</td>\n",
       "      <td>0</td>\n",
       "      <td>0</td>\n",
       "      <td>7</td>\n",
       "      <td>0</td>\n",
       "    </tr>\n",
       "    <tr>\n",
       "      <th>521225</th>\n",
       "      <td>NON-CRIMINAL</td>\n",
       "      <td>IMPOUNDED VEHICLE</td>\n",
       "      <td>3</td>\n",
       "      <td>GOLDEN GATE AV / HYDE ST</td>\n",
       "      <td>-122.415508</td>\n",
       "      <td>37.781654</td>\n",
       "      <td>2008-01-09 01:37:00</td>\n",
       "      <td>0</td>\n",
       "      <td>1</td>\n",
       "      <td>1</td>\n",
       "      <td>...</td>\n",
       "      <td>0</td>\n",
       "      <td>0</td>\n",
       "      <td>0</td>\n",
       "      <td>0</td>\n",
       "      <td>0</td>\n",
       "      <td>0</td>\n",
       "      <td>0</td>\n",
       "      <td>1</td>\n",
       "      <td>20</td>\n",
       "      <td>1</td>\n",
       "    </tr>\n",
       "    <tr>\n",
       "      <th>261970</th>\n",
       "      <td>NON-CRIMINAL</td>\n",
       "      <td>FOUND PROPERTY</td>\n",
       "      <td>1</td>\n",
       "      <td>700 Block of VALLEJO ST</td>\n",
       "      <td>-122.409792</td>\n",
       "      <td>37.798508</td>\n",
       "      <td>2011-10-31 09:20:00</td>\n",
       "      <td>1</td>\n",
       "      <td>9</td>\n",
       "      <td>10</td>\n",
       "      <td>...</td>\n",
       "      <td>0</td>\n",
       "      <td>0</td>\n",
       "      <td>0</td>\n",
       "      <td>0</td>\n",
       "      <td>0</td>\n",
       "      <td>0</td>\n",
       "      <td>0</td>\n",
       "      <td>0</td>\n",
       "      <td>20</td>\n",
       "      <td>0</td>\n",
       "    </tr>\n",
       "    <tr>\n",
       "      <th>802463</th>\n",
       "      <td>VEHICLE THEFT</td>\n",
       "      <td>TAMPERING WITH A VEHICLE</td>\n",
       "      <td>5</td>\n",
       "      <td>400 Block of GOETTINGEN ST</td>\n",
       "      <td>-122.406379</td>\n",
       "      <td>37.726230</td>\n",
       "      <td>2004-01-09 00:01:00</td>\n",
       "      <td>0</td>\n",
       "      <td>0</td>\n",
       "      <td>1</td>\n",
       "      <td>...</td>\n",
       "      <td>0</td>\n",
       "      <td>0</td>\n",
       "      <td>0</td>\n",
       "      <td>0</td>\n",
       "      <td>0</td>\n",
       "      <td>0</td>\n",
       "      <td>0</td>\n",
       "      <td>0</td>\n",
       "      <td>36</td>\n",
       "      <td>0</td>\n",
       "    </tr>\n",
       "    <tr>\n",
       "      <th>856248</th>\n",
       "      <td>NON-CRIMINAL</td>\n",
       "      <td>LOST PROPERTY</td>\n",
       "      <td>3</td>\n",
       "      <td>900 Block of KEARNY ST</td>\n",
       "      <td>-122.405284</td>\n",
       "      <td>37.796551</td>\n",
       "      <td>2003-04-16 22:00:00</td>\n",
       "      <td>0</td>\n",
       "      <td>22</td>\n",
       "      <td>4</td>\n",
       "      <td>...</td>\n",
       "      <td>0</td>\n",
       "      <td>0</td>\n",
       "      <td>0</td>\n",
       "      <td>0</td>\n",
       "      <td>0</td>\n",
       "      <td>0</td>\n",
       "      <td>0</td>\n",
       "      <td>0</td>\n",
       "      <td>20</td>\n",
       "      <td>0</td>\n",
       "    </tr>\n",
       "    <tr>\n",
       "      <th>779972</th>\n",
       "      <td>DRUG/NARCOTIC</td>\n",
       "      <td>POSSESSION OF HEROIN</td>\n",
       "      <td>2</td>\n",
       "      <td>400 Block of EDDY ST</td>\n",
       "      <td>-122.415067</td>\n",
       "      <td>37.783563</td>\n",
       "      <td>2004-04-27 10:10:00</td>\n",
       "      <td>1</td>\n",
       "      <td>10</td>\n",
       "      <td>4</td>\n",
       "      <td>...</td>\n",
       "      <td>0</td>\n",
       "      <td>0</td>\n",
       "      <td>0</td>\n",
       "      <td>0</td>\n",
       "      <td>0</td>\n",
       "      <td>0</td>\n",
       "      <td>0</td>\n",
       "      <td>1</td>\n",
       "      <td>7</td>\n",
       "      <td>0</td>\n",
       "    </tr>\n",
       "    <tr>\n",
       "      <th>716669</th>\n",
       "      <td>ASSAULT</td>\n",
       "      <td>THREATS AGAINST LIFE</td>\n",
       "      <td>2</td>\n",
       "      <td>1800 Block of JACKSON ST</td>\n",
       "      <td>-122.425519</td>\n",
       "      <td>37.793565</td>\n",
       "      <td>2005-03-22 00:01:00</td>\n",
       "      <td>0</td>\n",
       "      <td>0</td>\n",
       "      <td>3</td>\n",
       "      <td>...</td>\n",
       "      <td>0</td>\n",
       "      <td>0</td>\n",
       "      <td>1</td>\n",
       "      <td>0</td>\n",
       "      <td>0</td>\n",
       "      <td>0</td>\n",
       "      <td>0</td>\n",
       "      <td>0</td>\n",
       "      <td>1</td>\n",
       "      <td>0</td>\n",
       "    </tr>\n",
       "    <tr>\n",
       "      <th>485268</th>\n",
       "      <td>DRUG/NARCOTIC</td>\n",
       "      <td>POSSESSION OF NARCOTICS PARAPHERNALIA</td>\n",
       "      <td>6</td>\n",
       "      <td>BERNALHTS BL / ANDERSON ST</td>\n",
       "      <td>-122.415017</td>\n",
       "      <td>37.742184</td>\n",
       "      <td>2008-07-12 01:08:00</td>\n",
       "      <td>0</td>\n",
       "      <td>1</td>\n",
       "      <td>7</td>\n",
       "      <td>...</td>\n",
       "      <td>1</td>\n",
       "      <td>0</td>\n",
       "      <td>0</td>\n",
       "      <td>0</td>\n",
       "      <td>0</td>\n",
       "      <td>0</td>\n",
       "      <td>0</td>\n",
       "      <td>0</td>\n",
       "      <td>7</td>\n",
       "      <td>1</td>\n",
       "    </tr>\n",
       "  </tbody>\n",
       "</table>\n",
       "<p>10 rows × 26 columns</p>\n",
       "</div>"
      ],
      "text/plain": [
       "              Category                                      Descript  \\\n",
       "104929         ASSAULT                          THREATS AGAINST LIFE   \n",
       "400901  OTHER OFFENSES                   MISCELLANEOUS INVESTIGATION   \n",
       "844591   DRUG/NARCOTIC  UNDER THE INFLUENCE OF CONTROLLED SUBSTANCES   \n",
       "521225    NON-CRIMINAL                             IMPOUNDED VEHICLE   \n",
       "261970    NON-CRIMINAL                                FOUND PROPERTY   \n",
       "802463   VEHICLE THEFT                      TAMPERING WITH A VEHICLE   \n",
       "856248    NON-CRIMINAL                                 LOST PROPERTY   \n",
       "779972   DRUG/NARCOTIC                          POSSESSION OF HEROIN   \n",
       "716669         ASSAULT                          THREATS AGAINST LIFE   \n",
       "485268   DRUG/NARCOTIC         POSSESSION OF NARCOTICS PARAPHERNALIA   \n",
       "\n",
       "        DayOfWeek                     Address           X          Y  \\\n",
       "104929          6        14TH ST / MISSION ST -122.419983  37.768273   \n",
       "400901          7     700 Block of JERROLD AV -122.373456  37.729680   \n",
       "844591          4    200 Block of SHOTWELL ST -122.416375  37.764423   \n",
       "521225          3    GOLDEN GATE AV / HYDE ST -122.415508  37.781654   \n",
       "261970          1     700 Block of VALLEJO ST -122.409792  37.798508   \n",
       "802463          5  400 Block of GOETTINGEN ST -122.406379  37.726230   \n",
       "856248          3      900 Block of KEARNY ST -122.405284  37.796551   \n",
       "779972          2        400 Block of EDDY ST -122.415067  37.783563   \n",
       "716669          2    1800 Block of JACKSON ST -122.425519  37.793565   \n",
       "485268          6  BERNALHTS BL / ANDERSON ST -122.415017  37.742184   \n",
       "\n",
       "                      Date  IsDay  Hour  Month  ...  PdDistrict_INGLESIDE  \\\n",
       "104929 2013-12-14 12:50:00      1    12     12  ...                     0   \n",
       "400901 2009-09-20 13:32:00      1    13      9  ...                     0   \n",
       "844591 2003-06-12 08:45:00      1     8      6  ...                     0   \n",
       "521225 2008-01-09 01:37:00      0     1      1  ...                     0   \n",
       "261970 2011-10-31 09:20:00      1     9     10  ...                     0   \n",
       "802463 2004-01-09 00:01:00      0     0      1  ...                     0   \n",
       "856248 2003-04-16 22:00:00      0    22      4  ...                     0   \n",
       "779972 2004-04-27 10:10:00      1    10      4  ...                     0   \n",
       "716669 2005-03-22 00:01:00      0     0      3  ...                     0   \n",
       "485268 2008-07-12 01:08:00      0     1      7  ...                     1   \n",
       "\n",
       "        PdDistrict_MISSION  PdDistrict_NORTHERN  PdDistrict_PARK  \\\n",
       "104929                   1                    0                0   \n",
       "400901                   0                    0                0   \n",
       "844591                   1                    0                0   \n",
       "521225                   0                    0                0   \n",
       "261970                   0                    0                0   \n",
       "802463                   0                    0                0   \n",
       "856248                   0                    0                0   \n",
       "779972                   0                    0                0   \n",
       "716669                   0                    1                0   \n",
       "485268                   0                    0                0   \n",
       "\n",
       "        PdDistrict_RICHMOND  PdDistrict_SOUTHERN  PdDistrict_TARAVAL  \\\n",
       "104929                    0                    0                   0   \n",
       "400901                    0                    0                   0   \n",
       "844591                    0                    0                   0   \n",
       "521225                    0                    0                   0   \n",
       "261970                    0                    0                   0   \n",
       "802463                    0                    0                   0   \n",
       "856248                    0                    0                   0   \n",
       "779972                    0                    0                   0   \n",
       "716669                    0                    0                   0   \n",
       "485268                    0                    0                   0   \n",
       "\n",
       "        PdDistrict_TENDERLOIN  CategoryInt  InIntersection  \n",
       "104929                      0            1               1  \n",
       "400901                      0           21               0  \n",
       "844591                      0            7               0  \n",
       "521225                      1           20               1  \n",
       "261970                      0           20               0  \n",
       "802463                      0           36               0  \n",
       "856248                      0           20               0  \n",
       "779972                      1            7               0  \n",
       "716669                      0            1               0  \n",
       "485268                      0            7               1  \n",
       "\n",
       "[10 rows x 26 columns]"
      ]
     },
     "execution_count": 29,
     "metadata": {},
     "output_type": "execute_result"
    }
   ],
   "source": [
    "train_df.sample(10)"
   ]
  },
  {
   "cell_type": "markdown",
   "metadata": {
    "_uuid": "74b3d268fb7dd4c4534f9d3a1070b7c2ed364858",
    "id": "ajaohocS1yS5"
   },
   "source": [
    "# Feature Selection <a name=\"feature-selection\"></a>"
   ]
  },
  {
   "cell_type": "code",
   "execution_count": 30,
   "metadata": {
    "_uuid": "2d04d5362e100290c62fbad96f90a3f376520a61",
    "colab": {
     "base_uri": "https://localhost:8080/"
    },
    "id": "s-iP_Qdq1yS5",
    "outputId": "3b04e135-b413-4963-e1f9-43b8dac8593f"
   },
   "outputs": [
    {
     "data": {
      "text/plain": [
       "Index(['Category', 'Descript', 'DayOfWeek', 'Address', 'X', 'Y', 'Date',\n",
       "       'IsDay', 'Hour', 'Month', 'Year', 'HourCos', 'DayOfWeekCos', 'MonthCos',\n",
       "       'PdDistrict_BAYVIEW', 'PdDistrict_CENTRAL', 'PdDistrict_INGLESIDE',\n",
       "       'PdDistrict_MISSION', 'PdDistrict_NORTHERN', 'PdDistrict_PARK',\n",
       "       'PdDistrict_RICHMOND', 'PdDistrict_SOUTHERN', 'PdDistrict_TARAVAL',\n",
       "       'PdDistrict_TENDERLOIN', 'CategoryInt', 'InIntersection'],\n",
       "      dtype='object')"
      ]
     },
     "execution_count": 30,
     "metadata": {},
     "output_type": "execute_result"
    }
   ],
   "source": [
    "train_df.columns"
   ]
  },
  {
   "cell_type": "code",
   "execution_count": 31,
   "metadata": {
    "_uuid": "f3e01d5b7c9584ec77840099e52f3e588eea9abb",
    "id": "borZ97Ci1yS6",
    "scrolled": true
   },
   "outputs": [],
   "source": [
    "feature_cols = ['X', 'Y', 'IsDay', 'DayOfWeek', 'Month', 'Hour', 'Year', 'InIntersection',\n",
    "                'PdDistrict_BAYVIEW', 'PdDistrict_CENTRAL', 'PdDistrict_INGLESIDE',\n",
    "                'PdDistrict_MISSION', 'PdDistrict_NORTHERN', 'PdDistrict_PARK',\n",
    "                'PdDistrict_RICHMOND', 'PdDistrict_SOUTHERN', 'PdDistrict_TARAVAL', 'PdDistrict_TENDERLOIN']\n",
    "target_col = 'CategoryInt'\n",
    "\n",
    "train_x = train_df[feature_cols]\n",
    "train_y = train_df[target_col]\n",
    "\n",
    "test_ids = test_df['Id']\n",
    "test_x = test_df[feature_cols]"
   ]
  },
  {
   "cell_type": "code",
   "execution_count": 32,
   "metadata": {
    "_uuid": "0f597daa97c106ddae936a8de9d9759e754f46c2",
    "colab": {
     "base_uri": "https://localhost:8080/"
    },
    "id": "0Nu5xum91yS7",
    "outputId": "43b0221e-613e-4512-fa96-26dc26bf7f40"
   },
   "outputs": [
    {
     "data": {
      "text/plain": [
       "(pandas.core.frame.DataFrame, pandas.core.series.Series)"
      ]
     },
     "execution_count": 32,
     "metadata": {},
     "output_type": "execute_result"
    }
   ],
   "source": [
    "type(train_x), type(train_y)"
   ]
  },
  {
   "cell_type": "markdown",
   "metadata": {
    "_uuid": "02224b34f5c390805bb3f507d7b93e107537a613",
    "id": "3TUlZLDn1yS7"
   },
   "source": [
    "## Create Model"
   ]
  },
  {
   "cell_type": "code",
   "execution_count": 33,
   "metadata": {
    "_uuid": "a4f28a92ad713b12fda3481e066597ec00d8fb38",
    "id": "GClVMHXH1yS7"
   },
   "outputs": [],
   "source": [
    "import xgboost as xgb\n",
    "train_xgb = xgb.DMatrix(train_x, label=train_y)\n",
    "test_xgb  = xgb.DMatrix(test_x)"
   ]
  },
  {
   "cell_type": "markdown",
   "metadata": {
    "_uuid": "5463f5f776d4dd57443289348fa143ff6a223d1b",
    "id": "XTltU_QG1yS7"
   },
   "source": [
    "## Play with the parameters and do Cross-Validation"
   ]
  },
  {
   "cell_type": "code",
   "execution_count": 34,
   "metadata": {
    "_uuid": "69ba300d0354e40678c3706274e2df6244219234",
    "id": "NfnPlE_f1yS7"
   },
   "outputs": [],
   "source": [
    "params = {\n",
    "    'max_depth': 4,  # the maximum depth of each tree\n",
    "    'eta': 0.3,  # the training step for each iteration\n",
    "    'silent': 1,  # logging mode - quiet\n",
    "    'objective': 'multi:softprob',  # error evaluation for multiclass training\n",
    "    'num_class': 39,\n",
    "}"
   ]
  },
  {
   "cell_type": "code",
   "execution_count": 35,
   "metadata": {
    "_uuid": "b84165f3abc3b380e96ed6d12e8dad8a43d7c490",
    "id": "0tAemNua1yS8"
   },
   "outputs": [],
   "source": [
    "CROSS_VAL = False\n",
    "if CROSS_VAL:\n",
    "    print('Doing Cross-validation ...')\n",
    "    cv = xgb.cv(params, train_xgb, nfold=3, early_stopping_rounds=10, metrics='mlogloss', verbose_eval=True)\n",
    "    cv"
   ]
  }
 ],
 "metadata": {
  "colab": {
   "authorship_tag": "ABX9TyNRZ/L5MjFfjVDJ5mKZFZLE",
   "include_colab_link": true,
   "name": "category-crime-model.ipynb",
   "provenance": []
  },
  "kernelspec": {
   "display_name": "Python 3",
   "language": "python",
   "name": "python3"
  },
  "language_info": {
   "codemirror_mode": {
    "name": "ipython",
    "version": 3
   },
   "file_extension": ".py",
   "mimetype": "text/x-python",
   "name": "python",
   "nbconvert_exporter": "python",
   "pygments_lexer": "ipython3",
   "version": "3.7.6"
  }
 },
 "nbformat": 4,
 "nbformat_minor": 1
}
